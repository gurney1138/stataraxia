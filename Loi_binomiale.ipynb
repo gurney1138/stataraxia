{
 "cells": [
  {
   "cell_type": "code",
   "execution_count": 24,
   "metadata": {},
   "outputs": [
    {
     "data": {
      "image/png": "[encoded data removed]",
      "text/plain": [
       "<Figure size 432x288 with 1 Axes>"
      ]
     },
     "metadata": {
      "needs_background": "light"
     },
     "output_type": "display_data"
    }
   ],
   "source": [
    "\"\"\"\n",
    "Histoire de faire un peu d'algorithmique et de Python, je me suis amusé à programmer la loi binomiale.\n",
    "Rappelons que si X est une variable aléatoire comptant le nombre de succès au cours de n répétitions avec une probabilité de succès égale à p, alors X suit une loi binomiale B(n,p).\n",
    "La probabilité que X soit égale à k (k compris entre 0 et n) se calcule tel que : P(X=k) = (nk) pk (1-p)n-k avec (nk) pour le nombre de combinaisons de k dans n.\n",
    "Je commence par importer les modules dont j'ai besoin sous Python.\n",
    "\"\"\"\n",
    "\n",
    "import numpy as np\n",
    "import pandas as pd\n",
    "\n",
    "#Je définis une première fonction qui renvoie le nombre de succès :\n",
    "def simu_bino(n, p): # n = nombre d'expériences, p = probabilité de succès\n",
    "    S = 0 # Succès\n",
    "    i = 1 # Compteur\n",
    "    while i <= n:\n",
    "        E = np.random.random() # L'essai = tirage aléatoire entre 0 et 1\n",
    "        if E >= (1 - p): # Si le tirage aléatoire est supérieur au seuil 1 - p, j'enregistre le succès\n",
    "            S = S + 1\n",
    "        i = i + 1\n",
    "    return S\n",
    "    \n",
    "#J'en définis une deuxième pour \"jouer\" la première autant de fois qu'on le souhaiterait et stocker le résultat à chaque fois :\n",
    "def aggr_bino(n, p, nreps): # Fonction d'aggrégation des résultats précédents\n",
    "    j = 1 # Compteur\n",
    "    while j <= nreps :\n",
    "        if j == 1 :\n",
    "            R = np.array(simu_bino(n, p)) # On alimente la liste avec le 1er résultat\n",
    "        else :\n",
    "            R = np.append(R, simu_bino(n, p)) # On alimente la liste avec les résultats suivants\n",
    "        j = j+1\n",
    "    return R\n",
    "    \n",
    "#Je vais exécuter ces fonctions avec les valeurs suivantes : B(9, 2/7)\n",
    "res1 = pd.Series(aggr_bino(n=9, p=2/7, nreps=100000)).value_counts().sort_index()\n",
    "\n",
    "#Afin de vérifier que je n'ai pas commis d'erreur, je vais comparer les résultats avec la loi binomiale programmée dans le module pandas (tellement utilisé sur la planète que je le vois mal encore entaché d'erreur !):\n",
    "res2 = pd.Series(np.random.binomial(9, 2/7, 100000)).value_counts().sort_index()\n",
    "\n",
    "#Je constitue un fichier unique et je calcule les proportions :\n",
    "df = pd.concat([res1, res2], axis=1)\n",
    "df = df / 100000\n",
    "\n",
    "#Pour la comparaison, je privilégie le graphique :\n",
    "import matplotlib.pyplot as plt\n",
    "width = 0.5 # the width of the bars\n",
    "fig, ax = plt.subplots()\n",
    "g1 = ax.bar(np.arange(10), df[0], width, align='center', color='lightblue')\n",
    "g2 = ax.bar(np.arange(10)+ width, df[1], width, align='center', color='yellow')\n",
    "ax.set_title('Loi Binomiale : B(9, 2/7)')\n",
    "ax.legend((g1[0], g2[0]), ('Ma_simu', 'Loi_bino'))\n",
    "ax.set_ylabel('%')\n",
    "ax.set_xticks(np.arange(10))\n",
    "plt.show()\n"
   ]
  }
 ],
 "metadata": {
  "kernelspec": {
   "display_name": "FBE_py38",
   "language": "python",
   "name": "fbe_py38"
  },
  "language_info": {
   "codemirror_mode": {
    "name": "ipython",
    "version": 3
   },
   "file_extension": ".py",
   "mimetype": "text/x-python",
   "name": "python",
   "nbconvert_exporter": "python",
   "pygments_lexer": "ipython3",
   "version": "3.8.1"
  }
 },
 "nbformat": 4,
 "nbformat_minor": 4
}
